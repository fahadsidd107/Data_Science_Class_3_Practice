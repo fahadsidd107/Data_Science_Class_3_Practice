{
 "cells": [
  {
   "cell_type": "code",
   "execution_count": 15,
   "id": "6d62effc",
   "metadata": {},
   "outputs": [
    {
     "name": "stdout",
     "output_type": "stream",
     "text": [
      "Enter your marks 99\n"
     ]
    }
   ],
   "source": [
    "marks = int(input(\"Enter your marks \"))"
   ]
  },
  {
   "cell_type": "code",
   "execution_count": 16,
   "id": "084f34e2",
   "metadata": {},
   "outputs": [
    {
     "name": "stdout",
     "output_type": "stream",
     "text": [
      "A1\n"
     ]
    }
   ],
   "source": [
    "#{}\n",
    "if (marks>50):\n",
    "    if (marks>=80):\n",
    "        print('A1')\n",
    "    elif (80>marks>=70):\n",
    "        print('A grade')\n",
    "    elif (70>marks>=60):\n",
    "        print('B grade')\n",
    "    elif (60>marks>50):\n",
    "        print('C grade')\n",
    "elif (marks==50):\n",
    "    print(\"You just passed\")\n",
    "else:\n",
    "    print(\"Fail\")"
   ]
  },
  {
   "cell_type": "code",
   "execution_count": 21,
   "id": "a94b3e86",
   "metadata": {},
   "outputs": [
    {
     "name": "stdout",
     "output_type": "stream",
     "text": [
      "Fahad\n"
     ]
    }
   ],
   "source": [
    "a = [\"Fahad\",2,3,4,5,6,7]\n",
    "print(a[0])"
   ]
  },
  {
   "cell_type": "code",
   "execution_count": 24,
   "id": "a3cbb35b",
   "metadata": {},
   "outputs": [
    {
     "name": "stdout",
     "output_type": "stream",
     "text": [
      "Enter number: 1\n",
      "Enter number: 2\n",
      "Enter number: 3\n",
      "Enter number: 4\n",
      "Enter number: 6\n",
      "Enter number: 7\n",
      "Enter number: 8\n",
      "Enter number: 9\n",
      "Enter number: 10\n",
      "Enter number: 11\n",
      "[1, 3, 6, 8, 10]\n"
     ]
    }
   ],
   "source": [
    "b=[]\n",
    "for i in range(10):\n",
    "    temp=int(input(\"Enter number: \"))\n",
    "    b.append(temp)\n",
    "print(b[0:9:2])"
   ]
  },
  {
   "cell_type": "code",
   "execution_count": 25,
   "id": "0828a255",
   "metadata": {},
   "outputs": [
    {
     "name": "stdout",
     "output_type": "stream",
     "text": [
      "\n",
      "*\n",
      "**\n",
      "***\n",
      "****\n",
      "*****\n",
      "******\n",
      "*******\n",
      "********\n",
      "*********\n",
      "**********\n"
     ]
    }
   ],
   "source": [
    "b=[]\n",
    "for i in range(11):\n",
    "    print('*'*i)"
   ]
  },
  {
   "cell_type": "code",
   "execution_count": 4,
   "id": "555488f0",
   "metadata": {},
   "outputs": [
    {
     "name": "stdout",
     "output_type": "stream",
     "text": [
      "Enter number: 1\n",
      "Enter number: 2\n",
      "Enter number: 3\n",
      "Enter number: 4\n",
      "Enter number: 5\n",
      "Enter number: 6\n",
      "Broken\n"
     ]
    }
   ],
   "source": [
    "for i in range(10):\n",
    "    int(input(\"Enter number: \"))\n",
    "    if (i==5):\n",
    "        print('Broken')\n",
    "        break\n",
    "    \n",
    "             "
   ]
  },
  {
   "cell_type": "code",
   "execution_count": 7,
   "id": "e73b614b",
   "metadata": {},
   "outputs": [
    {
     "name": "stdout",
     "output_type": "stream",
     "text": [
      "[1, 2, 'Fahad', 3, 4]\n"
     ]
    }
   ],
   "source": [
    "b=[1,2,3,4]\n",
    "c=b.insert(2,'Fahad')\n",
    "print(b)"
   ]
  },
  {
   "cell_type": "code",
   "execution_count": 8,
   "id": "4d4d8010",
   "metadata": {},
   "outputs": [
    {
     "data": {
      "text/plain": [
       "['Shahzaib', 'Khubaib', 'Shareh', 'Fahad']"
      ]
     },
     "execution_count": 8,
     "metadata": {},
     "output_type": "execute_result"
    }
   ],
   "source": [
    "a=['Fahad','Shareh','Khubaib','Shahzaib']\n",
    "a[::-1]"
   ]
  },
  {
   "cell_type": "code",
   "execution_count": 9,
   "id": "634242fe",
   "metadata": {},
   "outputs": [
    {
     "name": "stdout",
     "output_type": "stream",
     "text": [
      "Enter your workmom\n",
      "Its a palindrome\n"
     ]
    }
   ],
   "source": [
    "a=input('Enter your work')\n",
    "if (a==a[::-1]):\n",
    "    print('Its a palindrome')\n",
    "else:\n",
    "    print('its not a palindrome')"
   ]
  },
  {
   "cell_type": "code",
   "execution_count": null,
   "id": "77ff279b",
   "metadata": {},
   "outputs": [],
   "source": []
  }
 ],
 "metadata": {
  "kernelspec": {
   "display_name": "Python 3 (ipykernel)",
   "language": "python",
   "name": "python3"
  },
  "language_info": {
   "codemirror_mode": {
    "name": "ipython",
    "version": 3
   },
   "file_extension": ".py",
   "mimetype": "text/x-python",
   "name": "python",
   "nbconvert_exporter": "python",
   "pygments_lexer": "ipython3",
   "version": "3.9.7"
  }
 },
 "nbformat": 4,
 "nbformat_minor": 5
}
